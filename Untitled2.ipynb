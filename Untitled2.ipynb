{
 "cells": [
  {
   "cell_type": "code",
   "execution_count": 2,
   "id": "f0fbe506-1960-4d3e-a3a2-f9ce7eed1ec4",
   "metadata": {},
   "outputs": [],
   "source": [
    "CARD_VALUES = {\n",
    "        '2': 1,\n",
    "        '3': 1,\n",
    "        '4': 1,\n",
    "        '5': 1,\n",
    "        '6': 1,\n",
    "        '7': 0,\n",
    "        '8': 0,\n",
    "        '9': 0,\n",
    "        '0': -1, # use '0' for 10 to keep everything a single character\n",
    "        'J': -1,\n",
    "        'Q': -1,\n",
    "        'K': -1,\n",
    "        'A': -1,\n",
    "        '*': -1, # use '*' as an alias for 'A' to make using the number pad easier\n",
    "        }\n",
    "\n",
    "DECKS = 8\n",
    "\n",
    "def main():\n",
    "    count = 0\n",
    "    cards = 0\n",
    "    user_input = True\n",
    "    decks_played = 0\n",
    "    while user_input:\n",
    "        user_input = raw_input('>> ')\n",
    "        cards += len(user_input)\n",
    "        for card in user_input:\n",
    "            count += CARD_VALUES[card.upper()]\n",
    "        decks_played = cards / 52.0\n",
    "        true_count = count / (DECKS - decks_played)\n",
    "        print('Count: {}'.format(count))\n",
    "        print('True Count: {}'.format(true_count))\n",
    "    print('Decks played: {}'.format(decks_played))"
   ]
  },
  {
   "cell_type": "code",
   "execution_count": null,
   "id": "be2cb2c1-2fb3-4f86-b9a5-6c46658c790b",
   "metadata": {},
   "outputs": [],
   "source": []
  }
 ],
 "metadata": {
  "kernelspec": {
   "display_name": "Python 3 (ipykernel)",
   "language": "python",
   "name": "python3"
  },
  "language_info": {
   "codemirror_mode": {
    "name": "ipython",
    "version": 3
   },
   "file_extension": ".py",
   "mimetype": "text/x-python",
   "name": "python",
   "nbconvert_exporter": "python",
   "pygments_lexer": "ipython3",
   "version": "3.7.11"
  }
 },
 "nbformat": 4,
 "nbformat_minor": 5
}
